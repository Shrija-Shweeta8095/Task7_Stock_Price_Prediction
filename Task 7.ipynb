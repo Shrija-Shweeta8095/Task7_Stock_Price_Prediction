{
 "cells": [
  {
   "cell_type": "markdown",
   "metadata": {},
   "source": [
    "## TASK 7\n",
    "### Stock Market Prediction using Numerical and Textual Analysis"
   ]
  },
  {
   "cell_type": "markdown",
   "metadata": {},
   "source": [
    "### Author- SHRIJA SHWEETA\n",
    "Data Science and Business Analytics Intern<br>\n",
    "Task 7: Task is to perform Stock Market Prediction using Numerical and Textual Analysis"
   ]
  },
  {
   "cell_type": "code",
   "execution_count": 5,
   "metadata": {},
   "outputs": [],
   "source": [
    "## import libraries\n",
    "import pandas as pd\n",
    "import numpy as np\n",
    "import matplotlib.pyplot as plt"
   ]
  },
  {
   "cell_type": "code",
   "execution_count": 6,
   "metadata": {},
   "outputs": [],
   "source": [
    "## load the dataset\n",
    "df=pd.read_csv('BSESN.csv')"
   ]
  },
  {
   "cell_type": "code",
   "execution_count": 7,
   "metadata": {},
   "outputs": [
    {
     "data": {
      "text/html": [
       "<div>\n",
       "<style scoped>\n",
       "    .dataframe tbody tr th:only-of-type {\n",
       "        vertical-align: middle;\n",
       "    }\n",
       "\n",
       "    .dataframe tbody tr th {\n",
       "        vertical-align: top;\n",
       "    }\n",
       "\n",
       "    .dataframe thead th {\n",
       "        text-align: right;\n",
       "    }\n",
       "</style>\n",
       "<table border=\"1\" class=\"dataframe\">\n",
       "  <thead>\n",
       "    <tr style=\"text-align: right;\">\n",
       "      <th></th>\n",
       "      <th>Date</th>\n",
       "      <th>Open</th>\n",
       "      <th>High</th>\n",
       "      <th>Low</th>\n",
       "      <th>Close</th>\n",
       "      <th>Adj Close</th>\n",
       "      <th>Volume</th>\n",
       "    </tr>\n",
       "  </thead>\n",
       "  <tbody>\n",
       "    <tr>\n",
       "      <th>0</th>\n",
       "      <td>2001-01-02</td>\n",
       "      <td>3953.219971</td>\n",
       "      <td>4028.570068</td>\n",
       "      <td>3929.370117</td>\n",
       "      <td>4018.879883</td>\n",
       "      <td>4018.879883</td>\n",
       "      <td>0.0</td>\n",
       "    </tr>\n",
       "    <tr>\n",
       "      <th>1</th>\n",
       "      <td>2001-01-03</td>\n",
       "      <td>3977.580078</td>\n",
       "      <td>4067.659912</td>\n",
       "      <td>3977.580078</td>\n",
       "      <td>4060.020020</td>\n",
       "      <td>4060.020020</td>\n",
       "      <td>0.0</td>\n",
       "    </tr>\n",
       "    <tr>\n",
       "      <th>2</th>\n",
       "      <td>2001-01-04</td>\n",
       "      <td>4180.970215</td>\n",
       "      <td>4180.970215</td>\n",
       "      <td>4109.549805</td>\n",
       "      <td>4115.370117</td>\n",
       "      <td>4115.370117</td>\n",
       "      <td>0.0</td>\n",
       "    </tr>\n",
       "    <tr>\n",
       "      <th>3</th>\n",
       "      <td>2001-01-05</td>\n",
       "      <td>4116.339844</td>\n",
       "      <td>4195.009766</td>\n",
       "      <td>4115.350098</td>\n",
       "      <td>4183.729980</td>\n",
       "      <td>4183.729980</td>\n",
       "      <td>0.0</td>\n",
       "    </tr>\n",
       "    <tr>\n",
       "      <th>4</th>\n",
       "      <td>2001-01-08</td>\n",
       "      <td>4164.759766</td>\n",
       "      <td>4206.720215</td>\n",
       "      <td>4101.529785</td>\n",
       "      <td>4120.430176</td>\n",
       "      <td>4120.430176</td>\n",
       "      <td>0.0</td>\n",
       "    </tr>\n",
       "  </tbody>\n",
       "</table>\n",
       "</div>"
      ],
      "text/plain": [
       "         Date         Open         High          Low        Close  \\\n",
       "0  2001-01-02  3953.219971  4028.570068  3929.370117  4018.879883   \n",
       "1  2001-01-03  3977.580078  4067.659912  3977.580078  4060.020020   \n",
       "2  2001-01-04  4180.970215  4180.970215  4109.549805  4115.370117   \n",
       "3  2001-01-05  4116.339844  4195.009766  4115.350098  4183.729980   \n",
       "4  2001-01-08  4164.759766  4206.720215  4101.529785  4120.430176   \n",
       "\n",
       "     Adj Close  Volume  \n",
       "0  4018.879883     0.0  \n",
       "1  4060.020020     0.0  \n",
       "2  4115.370117     0.0  \n",
       "3  4183.729980     0.0  \n",
       "4  4120.430176     0.0  "
      ]
     },
     "execution_count": 7,
     "metadata": {},
     "output_type": "execute_result"
    }
   ],
   "source": [
    "## print first 5 rows\n",
    "df.head()"
   ]
  },
  {
   "cell_type": "code",
   "execution_count": 8,
   "metadata": {},
   "outputs": [
    {
     "data": {
      "text/plain": [
       "(4946, 7)"
      ]
     },
     "execution_count": 8,
     "metadata": {},
     "output_type": "execute_result"
    }
   ],
   "source": [
    "## print the shape of dataset\n",
    "df.shape"
   ]
  },
  {
   "cell_type": "code",
   "execution_count": 9,
   "metadata": {},
   "outputs": [
    {
     "name": "stdout",
     "output_type": "stream",
     "text": [
      "<class 'pandas.core.frame.DataFrame'>\n",
      "RangeIndex: 4946 entries, 0 to 4945\n",
      "Data columns (total 7 columns):\n",
      " #   Column     Non-Null Count  Dtype         \n",
      "---  ------     --------------  -----         \n",
      " 0   Date       4946 non-null   datetime64[ns]\n",
      " 1   Open       4872 non-null   float64       \n",
      " 2   High       4872 non-null   float64       \n",
      " 3   Low        4872 non-null   float64       \n",
      " 4   Close      4872 non-null   float64       \n",
      " 5   Adj Close  4872 non-null   float64       \n",
      " 6   Volume     4872 non-null   float64       \n",
      "dtypes: datetime64[ns](1), float64(6)\n",
      "memory usage: 270.6 KB\n"
     ]
    }
   ],
   "source": [
    "#Converting Date column to datetime datatype\n",
    "df['Date'] = pd.to_datetime(df['Date'])\n",
    "df.info()"
   ]
  },
  {
   "cell_type": "code",
   "execution_count": 10,
   "metadata": {},
   "outputs": [],
   "source": [
    "df.dropna(inplace = True)"
   ]
  },
  {
   "cell_type": "code",
   "execution_count": 11,
   "metadata": {},
   "outputs": [
    {
     "data": {
      "text/plain": [
       "Text(0, 0.5, 'Close')"
      ]
     },
     "execution_count": 11,
     "metadata": {},
     "output_type": "execute_result"
    },
    {
     "data": {
      "image/png": "[encoded data removed]",
      "text/plain": [
       "<Figure size 720x432 with 1 Axes>"
      ]
     },
     "metadata": {
      "needs_background": "light"
     },
     "output_type": "display_data"
    }
   ],
   "source": [
    "plt.figure(figsize=(10, 6))\n",
    "df['Close'].plot()\n",
    "plt.ylabel('Close')"
   ]
  },
  {
   "cell_type": "code",
   "execution_count": 12,
   "metadata": {},
   "outputs": [
    {
     "data": {
      "text/plain": [
       "<matplotlib.legend.Legend at 0x24301d42400>"
      ]
     },
     "execution_count": 12,
     "metadata": {},
     "output_type": "execute_result"
    },
    {
     "data": {
      "image/png": "[encoded data removed]",
      "text/plain": [
       "<Figure size 720x432 with 1 Axes>"
      ]
     },
     "metadata": {
      "needs_background": "light"
     },
     "output_type": "display_data"
    }
   ],
   "source": [
    "#Plotting moving average\n",
    "close = df['Close']\n",
    "ma = close.rolling(window = 50).mean()\n",
    "std = close.rolling(window = 50).std()\n",
    "\n",
    "plt.figure(figsize=(10, 6))\n",
    "df['Close'].plot(color = 'b', label = 'Close')\n",
    "ma.plot(color = 'r', label = 'Rolling Mean')\n",
    "std.plot(label = 'Rolling Standard Deviation')\n",
    "plt.legend()"
   ]
  },
  {
   "cell_type": "code",
   "execution_count": 13,
   "metadata": {},
   "outputs": [
    {
     "data": {
      "text/plain": [
       "Text(0.5, 1.0, 'Returns')"
      ]
     },
     "execution_count": 13,
     "metadata": {},
     "output_type": "execute_result"
    },
    {
     "data": {
      "image/png": "[encoded data removed]",
      "text/plain": [
       "<Figure size 720x432 with 1 Axes>"
      ]
     },
     "metadata": {
      "needs_background": "light"
     },
     "output_type": "display_data"
    }
   ],
   "source": [
    "#Plotting returns\n",
    "returns = close / close.shift(1) - 1\n",
    "\n",
    "plt.figure(figsize = (10,6))\n",
    "returns.plot(label='Return', color = 'g')\n",
    "plt.title(\"Returns\")"
   ]
  },
  {
   "cell_type": "code",
   "execution_count": 14,
   "metadata": {},
   "outputs": [],
   "source": [
    "from sklearn.model_selection import train_test_split\n",
    "from statsmodels.tsa.stattools import adfuller, acf, pacf"
   ]
  },
  {
   "cell_type": "code",
   "execution_count": 15,
   "metadata": {},
   "outputs": [],
   "source": [
    "train = df[:1000]\n",
    "test = df[1000:]"
   ]
  },
  {
   "cell_type": "code",
   "execution_count": 16,
   "metadata": {},
   "outputs": [
    {
     "data": {
      "image/png": "[encoded data removed]",
      "text/plain": [
       "<Figure size 720x576 with 1 Axes>"
      ]
     },
     "metadata": {
      "needs_background": "light"
     },
     "output_type": "display_data"
    },
    {
     "name": "stdout",
     "output_type": "stream",
     "text": [
      "Results of dickey fuller test\n",
      "ADF Test Statistic : 0.6847089129500284\n",
      "p-value : 0.9895277172383614\n",
      "#Lags Used : 6\n",
      "Number of Observations Used : 993\n",
      "Weak evidence against null hypothesis, time series is non-stationary \n"
     ]
    }
   ],
   "source": [
    "#Stationarity test\n",
    "def test_stationarity(timeseries):\n",
    "\n",
    "    #Determing rolling statistics\n",
    "    rolmean = timeseries.rolling(20).mean()\n",
    "    rolstd = timeseries.rolling(20).std()\n",
    "\n",
    "    #Plot rolling statistics:\n",
    "    plt.figure(figsize = (10,8))\n",
    "    plt.plot(timeseries, color = 'y', label = 'original')\n",
    "    plt.plot(rolmean, color = 'r', label = 'rolling mean')\n",
    "    plt.plot(rolstd, color = 'b', label = 'rolling std')\n",
    "    plt.xlabel('Date')\n",
    "    plt.legend()\n",
    "    plt.title('Rolling Mean and Standard Deviation',  fontsize = 20)\n",
    "    plt.show(block = False)\n",
    "    print('Results of dickey fuller test')\n",
    "    result = adfuller(timeseries, autolag = 'AIC')\n",
    "    labels = ['ADF Test Statistic','p-value','#Lags Used','Number of Observations Used']\n",
    "    for value,label in zip(result, labels):\n",
    "        print(label+' : '+str(value) )\n",
    "    if result[1] <= 0.05:\n",
    "        print(\"Strong evidence against the null hypothesis(Ho), reject the null hypothesis. Data is stationary\")\n",
    "    else:\n",
    "        print(\"Weak evidence against null hypothesis, time series is non-stationary \")\n",
    "test_stationarity(train['Close'])"
   ]
  },
  {
   "cell_type": "code",
   "execution_count": 17,
   "metadata": {},
   "outputs": [
    {
     "data": {
      "text/plain": [
       "[<matplotlib.lines.Line2D at 0x243034278e0>]"
      ]
     },
     "execution_count": 17,
     "metadata": {},
     "output_type": "execute_result"
    },
    {
     "data": {
      "image/png": "[encoded data removed]",
      "text/plain": [
       "<Figure size 720x432 with 1 Axes>"
      ]
     },
     "metadata": {
      "needs_background": "light"
     },
     "output_type": "display_data"
    }
   ],
   "source": [
    "train_log = np.log(train['Close']) \n",
    "test_log = np.log(test['Close'])\n",
    "\n",
    "mav = train_log.rolling(24).mean() \n",
    "plt.figure(figsize = (10,6))\n",
    "plt.plot(train_log) \n",
    "plt.plot(mav, color = 'red') "
   ]
  },
  {
   "cell_type": "code",
   "execution_count": 18,
   "metadata": {},
   "outputs": [
    {
     "data": {
      "image/png": "[encoded data removed]",
      "text/plain": [
       "<Figure size 720x576 with 1 Axes>"
      ]
     },
     "metadata": {
      "needs_background": "light"
     },
     "output_type": "display_data"
    },
    {
     "name": "stdout",
     "output_type": "stream",
     "text": [
      "Results of dickey fuller test\n",
      "ADF Test Statistic : 0.09925455869129639\n",
      "p-value : 0.9660101624822948\n",
      "#Lags Used : 4\n",
      "Number of Observations Used : 995\n",
      "Weak evidence against null hypothesis, time series is non-stationary \n"
     ]
    }
   ],
   "source": [
    "train_log.dropna(inplace = True)\n",
    "test_log.dropna(inplace = True)\n",
    "\n",
    "test_stationarity(train_log)"
   ]
  },
  {
   "cell_type": "code",
   "execution_count": 19,
   "metadata": {},
   "outputs": [
    {
     "data": {
      "image/png": "[encoded data removed]",
      "text/plain": [
       "<Figure size 720x576 with 1 Axes>"
      ]
     },
     "metadata": {
      "needs_background": "light"
     },
     "output_type": "display_data"
    },
    {
     "name": "stdout",
     "output_type": "stream",
     "text": [
      "Results of dickey fuller test\n",
      "ADF Test Statistic : -5.736980339921389\n",
      "p-value : 6.404632148346681e-07\n",
      "#Lags Used : 4\n",
      "Number of Observations Used : 972\n",
      "Strong evidence against the null hypothesis(Ho), reject the null hypothesis. Data is stationary\n"
     ]
    }
   ],
   "source": [
    "train_log_diff = train_log - mav\n",
    "train_log_diff.dropna(inplace = True)\n",
    "\n",
    "test_stationarity(train_log_diff)"
   ]
  },
  {
   "cell_type": "code",
   "execution_count": 20,
   "metadata": {},
   "outputs": [
    {
     "name": "stdout",
     "output_type": "stream",
     "text": [
      "Requirement already satisfied: pmdarima in e:\\ml_and_dl\\env\\lib\\site-packages (1.7.1)Note: you may need to restart the kernel to use updated packages.\n",
      "Requirement already satisfied: pandas>=0.19 in e:\\ml_and_dl\\env\\lib\\site-packages (from pmdarima) (1.0.3)\n",
      "Requirement already satisfied: numpy>=1.17.3 in e:\\ml_and_dl\\env\\lib\\site-packages (from pmdarima) (1.18.1)\n",
      "Requirement already satisfied: scipy>=1.3.2 in e:\\ml_and_dl\\env\\lib\\site-packages (from pmdarima) (1.5.0)\n",
      "Requirement already satisfied: statsmodels<0.12,>=0.11 in e:\\ml_and_dl\\env\\lib\\site-packages (from pmdarima) (0.11.1)\n",
      "Requirement already satisfied: urllib3 in e:\\ml_and_dl\\env\\lib\\site-packages (from pmdarima) (1.25.10)\n",
      "Requirement already satisfied: Cython<0.29.18,>=0.29 in e:\\ml_and_dl\\env\\lib\\site-packages (from pmdarima) (0.29.17)\n",
      "Requirement already satisfied: setuptools<50.0.0 in e:\\ml_and_dl\\env\\lib\\site-packages (from pmdarima) (47.1.1.post20200604)\n",
      "Requirement already satisfied: scikit-learn>=0.22 in e:\\ml_and_dl\\env\\lib\\site-packages (from pmdarima) (0.22.1)\n",
      "Requirement already satisfied: joblib>=0.11 in e:\\ml_and_dl\\env\\lib\\site-packages (from pmdarima) (0.15.1)\n",
      "Requirement already satisfied: pytz>=2017.2 in e:\\ml_and_dl\\env\\lib\\site-packages (from pandas>=0.19->pmdarima) (2020.1)\n",
      "Requirement already satisfied: python-dateutil>=2.6.1 in e:\\ml_and_dl\\env\\lib\\site-packages (from pandas>=0.19->pmdarima) (2.8.1)\n",
      "Requirement already satisfied: patsy>=0.5 in e:\\ml_and_dl\\env\\lib\\site-packages (from statsmodels<0.12,>=0.11->pmdarima) (0.5.1)\n",
      "Requirement already satisfied: six>=1.5 in e:\\ml_and_dl\\env\\lib\\site-packages (from python-dateutil>=2.6.1->pandas>=0.19->pmdarima) (1.15.0)\n",
      "\n"
     ]
    }
   ],
   "source": [
    "pip install pmdarima"
   ]
  },
  {
   "cell_type": "code",
   "execution_count": 21,
   "metadata": {},
   "outputs": [
    {
     "name": "stdout",
     "output_type": "stream",
     "text": [
      "Performing stepwise search to minimize aic\n",
      " ARIMA(2,2,2)(0,0,0)[0]             : AIC=inf, Time=4.79 sec\n",
      " ARIMA(0,2,0)(0,0,0)[0]             : AIC=-5036.986, Time=0.38 sec\n",
      " ARIMA(1,2,0)(0,0,0)[0]             : AIC=-5215.671, Time=0.18 sec\n",
      " ARIMA(0,2,1)(0,0,0)[0]             : AIC=inf, Time=1.23 sec\n",
      " ARIMA(2,2,0)(0,0,0)[0]             : AIC=-5365.859, Time=1.05 sec\n",
      " ARIMA(3,2,0)(0,0,0)[0]             : AIC=-5471.941, Time=0.74 sec\n",
      " ARIMA(4,2,0)(0,0,0)[0]             : AIC=-5498.937, Time=0.95 sec\n",
      " ARIMA(5,2,0)(0,0,0)[0]             : AIC=-5508.753, Time=1.25 sec\n",
      " ARIMA(5,2,1)(0,0,0)[0]             : AIC=-5643.982, Time=4.44 sec\n",
      " ARIMA(4,2,1)(0,0,0)[0]             : AIC=inf, Time=4.17 sec\n",
      " ARIMA(5,2,2)(0,0,0)[0]             : AIC=-5610.930, Time=4.79 sec\n",
      " ARIMA(4,2,2)(0,0,0)[0]             : AIC=inf, Time=4.50 sec\n",
      " ARIMA(5,2,1)(0,0,0)[0] intercept   : AIC=-5544.055, Time=10.70 sec\n",
      "\n",
      "Best model:  ARIMA(5,2,1)(0,0,0)[0]          \n",
      "Total fit time: 39.218 seconds\n"
     ]
    }
   ],
   "source": [
    "#Using auto arima to make predictions using log data\n",
    "from pmdarima import auto_arima\n",
    "model = auto_arima(train_log, trace = True, error_action = 'ignore', suppress_warnings = True)\n",
    "model.fit(train_log)\n",
    "predictions = model.predict(n_periods = len(test))\n",
    "predictions = pd.DataFrame(predictions,index = test_log.index,columns=['Prediction'])"
   ]
  },
  {
   "cell_type": "code",
   "execution_count": 22,
   "metadata": {},
   "outputs": [
    {
     "data": {
      "text/plain": [
       "Text(0, 0.5, 'Actual Stock Price')"
      ]
     },
     "execution_count": 22,
     "metadata": {},
     "output_type": "execute_result"
    },
    {
     "data": {
      "image/png": "[encoded data removed]",
      "text/plain": [
       "<Figure size 432x288 with 1 Axes>"
      ]
     },
     "metadata": {
      "needs_background": "light"
     },
     "output_type": "display_data"
    }
   ],
   "source": [
    "plt.plot(train_log, label='Train')\n",
    "plt.plot(test_log, label='Test')\n",
    "plt.plot(predictions, label='Prediction')\n",
    "plt.title('BSESN Stock Price Prediction')\n",
    "plt.xlabel('Time')\n",
    "plt.ylabel('Actual Stock Price')"
   ]
  },
  {
   "cell_type": "code",
   "execution_count": 23,
   "metadata": {},
   "outputs": [
    {
     "name": "stdout",
     "output_type": "stream",
     "text": [
      "RMSE :  3.2582503481534033\n"
     ]
    }
   ],
   "source": [
    "#Calculating error\n",
    "from sklearn.metrics import mean_squared_error\n",
    "rms = np.sqrt(mean_squared_error(test_log,predictions))\n",
    "print(\"RMSE : \", rms)"
   ]
  },
  {
   "cell_type": "code",
   "execution_count": 24,
   "metadata": {},
   "outputs": [
    {
     "name": "stderr",
     "output_type": "stream",
     "text": [
      "E:\\ml_and_dl\\env\\lib\\site-packages\\IPython\\core\\interactiveshell.py:3062: DtypeWarning: Columns (0) have mixed types.Specify dtype option on import or set low_memory=False.\n",
      "  has_raised = await self.run_ast_nodes(code_ast.body, cell_name,\n"
     ]
    },
    {
     "data": {
      "text/html": [
       "<div>\n",
       "<style scoped>\n",
       "    .dataframe tbody tr th:only-of-type {\n",
       "        vertical-align: middle;\n",
       "    }\n",
       "\n",
       "    .dataframe tbody tr th {\n",
       "        vertical-align: top;\n",
       "    }\n",
       "\n",
       "    .dataframe thead th {\n",
       "        text-align: right;\n",
       "    }\n",
       "</style>\n",
       "<table border=\"1\" class=\"dataframe\">\n",
       "  <thead>\n",
       "    <tr style=\"text-align: right;\">\n",
       "      <th></th>\n",
       "      <th>Date</th>\n",
       "      <th>Category</th>\n",
       "      <th>News</th>\n",
       "    </tr>\n",
       "  </thead>\n",
       "  <tbody>\n",
       "    <tr>\n",
       "      <th>0</th>\n",
       "      <td>publish_date</td>\n",
       "      <td>headline_category</td>\n",
       "      <td>headline_text</td>\n",
       "    </tr>\n",
       "    <tr>\n",
       "      <th>1</th>\n",
       "      <td>20010101</td>\n",
       "      <td>sports.wwe</td>\n",
       "      <td>win over cena satisfying but defeating underta...</td>\n",
       "    </tr>\n",
       "    <tr>\n",
       "      <th>2</th>\n",
       "      <td>20010102</td>\n",
       "      <td>unknown</td>\n",
       "      <td>Status quo will not be disturbed at Ayodhya; s...</td>\n",
       "    </tr>\n",
       "    <tr>\n",
       "      <th>3</th>\n",
       "      <td>20010102</td>\n",
       "      <td>unknown</td>\n",
       "      <td>Fissures in Hurriyat over Pak visit</td>\n",
       "    </tr>\n",
       "    <tr>\n",
       "      <th>4</th>\n",
       "      <td>20010102</td>\n",
       "      <td>unknown</td>\n",
       "      <td>America's unwanted heading for India?</td>\n",
       "    </tr>\n",
       "    <tr>\n",
       "      <th>...</th>\n",
       "      <td>...</td>\n",
       "      <td>...</td>\n",
       "      <td>...</td>\n",
       "    </tr>\n",
       "    <tr>\n",
       "      <th>3297168</th>\n",
       "      <td>20200630</td>\n",
       "      <td>gadgets-news</td>\n",
       "      <td>why tiktok removed 1 65 crore videos in india</td>\n",
       "    </tr>\n",
       "    <tr>\n",
       "      <th>3297169</th>\n",
       "      <td>20200630</td>\n",
       "      <td>entertainment.hindi.bollywood</td>\n",
       "      <td>apurva asrani calls alia bhatts mother soni ra...</td>\n",
       "    </tr>\n",
       "    <tr>\n",
       "      <th>3297170</th>\n",
       "      <td>20200630</td>\n",
       "      <td>entertainment.hindi.bollywood</td>\n",
       "      <td>kangana ranaut gets a doll version of herself ...</td>\n",
       "    </tr>\n",
       "    <tr>\n",
       "      <th>3297171</th>\n",
       "      <td>20200630</td>\n",
       "      <td>entertainment.hindi.bollywood</td>\n",
       "      <td>meezaan jaffrey reminisces his childhood days ...</td>\n",
       "    </tr>\n",
       "    <tr>\n",
       "      <th>3297172</th>\n",
       "      <td>20200630</td>\n",
       "      <td>entertainment.telugu.movies.news</td>\n",
       "      <td>prabhas20 titled as radhe shyam prabhas and po...</td>\n",
       "    </tr>\n",
       "  </tbody>\n",
       "</table>\n",
       "<p>3297173 rows × 3 columns</p>\n",
       "</div>"
      ],
      "text/plain": [
       "                 Date                          Category  \\\n",
       "0        publish_date                 headline_category   \n",
       "1            20010101                        sports.wwe   \n",
       "2            20010102                           unknown   \n",
       "3            20010102                           unknown   \n",
       "4            20010102                           unknown   \n",
       "...               ...                               ...   \n",
       "3297168      20200630                      gadgets-news   \n",
       "3297169      20200630     entertainment.hindi.bollywood   \n",
       "3297170      20200630     entertainment.hindi.bollywood   \n",
       "3297171      20200630     entertainment.hindi.bollywood   \n",
       "3297172      20200630  entertainment.telugu.movies.news   \n",
       "\n",
       "                                                      News  \n",
       "0                                            headline_text  \n",
       "1        win over cena satisfying but defeating underta...  \n",
       "2        Status quo will not be disturbed at Ayodhya; s...  \n",
       "3                      Fissures in Hurriyat over Pak visit  \n",
       "4                    America's unwanted heading for India?  \n",
       "...                                                    ...  \n",
       "3297168      why tiktok removed 1 65 crore videos in india  \n",
       "3297169  apurva asrani calls alia bhatts mother soni ra...  \n",
       "3297170  kangana ranaut gets a doll version of herself ...  \n",
       "3297171  meezaan jaffrey reminisces his childhood days ...  \n",
       "3297172  prabhas20 titled as radhe shyam prabhas and po...  \n",
       "\n",
       "[3297173 rows x 3 columns]"
      ]
     },
     "execution_count": 24,
     "metadata": {},
     "output_type": "execute_result"
    }
   ],
   "source": [
    "cols = ['Date','Category','News']\n",
    "df_news = pd.read_csv('india_news_headlines.csv', names = cols)\n",
    "df_news"
   ]
  },
  {
   "cell_type": "code",
   "execution_count": 25,
   "metadata": {},
   "outputs": [
    {
     "name": "stdout",
     "output_type": "stream",
     "text": [
      "<class 'pandas.core.frame.DataFrame'>\n",
      "Int64Index: 3297172 entries, 1 to 3297172\n",
      "Data columns (total 2 columns):\n",
      " #   Column  Dtype \n",
      "---  ------  ----- \n",
      " 0   Date    object\n",
      " 1   News    object\n",
      "dtypes: object(2)\n",
      "memory usage: 75.5+ MB\n"
     ]
    }
   ],
   "source": [
    "df_news.drop(0, inplace=True)\n",
    "df_news.drop('Category', axis = 1, inplace=True)\n",
    "df_news.info()"
   ]
  },
  {
   "cell_type": "code",
   "execution_count": 26,
   "metadata": {},
   "outputs": [],
   "source": [
    " #Converting data type of Date column \n",
    "df_news['Date'] = pd.to_datetime(df_news['Date'],format= '%Y%m%d')\n",
    "df_news=df_news.head(10000)"
   ]
  },
  {
   "cell_type": "code",
   "execution_count": 27,
   "metadata": {},
   "outputs": [
    {
     "name": "stderr",
     "output_type": "stream",
     "text": [
      "<ipython-input-27-5807b6c2be63>:2: SettingWithCopyWarning: \n",
      "A value is trying to be set on a copy of a slice from a DataFrame.\n",
      "Try using .loc[row_indexer,col_indexer] = value instead\n",
      "\n",
      "See the caveats in the documentation: https://pandas.pydata.org/pandas-docs/stable/user_guide/indexing.html#returning-a-view-versus-a-copy\n",
      "  df_news['News'] = df_news.groupby(['Date']).transform(lambda x : ' '.join(x))\n"
     ]
    },
    {
     "data": {
      "text/html": [
       "<div>\n",
       "<style scoped>\n",
       "    .dataframe tbody tr th:only-of-type {\n",
       "        vertical-align: middle;\n",
       "    }\n",
       "\n",
       "    .dataframe tbody tr th {\n",
       "        vertical-align: top;\n",
       "    }\n",
       "\n",
       "    .dataframe thead th {\n",
       "        text-align: right;\n",
       "    }\n",
       "</style>\n",
       "<table border=\"1\" class=\"dataframe\">\n",
       "  <thead>\n",
       "    <tr style=\"text-align: right;\">\n",
       "      <th></th>\n",
       "      <th>Date</th>\n",
       "      <th>News</th>\n",
       "    </tr>\n",
       "  </thead>\n",
       "  <tbody>\n",
       "    <tr>\n",
       "      <th>0</th>\n",
       "      <td>2001-01-01</td>\n",
       "      <td>win over cena satisfying but defeating underta...</td>\n",
       "    </tr>\n",
       "    <tr>\n",
       "      <th>1</th>\n",
       "      <td>2001-01-02</td>\n",
       "      <td>Status quo will not be disturbed at Ayodhya; s...</td>\n",
       "    </tr>\n",
       "    <tr>\n",
       "      <th>2</th>\n",
       "      <td>2001-01-03</td>\n",
       "      <td>Powerless north India gropes in the dark Think...</td>\n",
       "    </tr>\n",
       "    <tr>\n",
       "      <th>3</th>\n",
       "      <td>2001-01-04</td>\n",
       "      <td>The string that pulled Stephen Hawking to Indi...</td>\n",
       "    </tr>\n",
       "    <tr>\n",
       "      <th>4</th>\n",
       "      <td>2001-01-05</td>\n",
       "      <td>Light combat craft takes India into club class...</td>\n",
       "    </tr>\n",
       "    <tr>\n",
       "      <th>...</th>\n",
       "      <td>...</td>\n",
       "      <td>...</td>\n",
       "    </tr>\n",
       "    <tr>\n",
       "      <th>162</th>\n",
       "      <td>2001-07-23</td>\n",
       "      <td>BSP focuses on Punjab; UP issues for polls Con...</td>\n",
       "    </tr>\n",
       "    <tr>\n",
       "      <th>163</th>\n",
       "      <td>2001-07-24</td>\n",
       "      <td>Wrong timing: Hike in fee for medical; dental ...</td>\n",
       "    </tr>\n",
       "    <tr>\n",
       "      <th>164</th>\n",
       "      <td>2001-07-25</td>\n",
       "      <td>Dataram signs up with Signet 70 pc govt staff ...</td>\n",
       "    </tr>\n",
       "    <tr>\n",
       "      <th>165</th>\n",
       "      <td>2001-07-26</td>\n",
       "      <td>Karnatak varsity MA results announced How to p...</td>\n",
       "    </tr>\n",
       "    <tr>\n",
       "      <th>166</th>\n",
       "      <td>2001-07-27</td>\n",
       "      <td>SEC gears up for local bodies election Higher ...</td>\n",
       "    </tr>\n",
       "  </tbody>\n",
       "</table>\n",
       "<p>167 rows × 2 columns</p>\n",
       "</div>"
      ],
      "text/plain": [
       "          Date                                               News\n",
       "0   2001-01-01  win over cena satisfying but defeating underta...\n",
       "1   2001-01-02  Status quo will not be disturbed at Ayodhya; s...\n",
       "2   2001-01-03  Powerless north India gropes in the dark Think...\n",
       "3   2001-01-04  The string that pulled Stephen Hawking to Indi...\n",
       "4   2001-01-05  Light combat craft takes India into club class...\n",
       "..         ...                                                ...\n",
       "162 2001-07-23  BSP focuses on Punjab; UP issues for polls Con...\n",
       "163 2001-07-24  Wrong timing: Hike in fee for medical; dental ...\n",
       "164 2001-07-25  Dataram signs up with Signet 70 pc govt staff ...\n",
       "165 2001-07-26  Karnatak varsity MA results announced How to p...\n",
       "166 2001-07-27  SEC gears up for local bodies election Higher ...\n",
       "\n",
       "[167 rows x 2 columns]"
      ]
     },
     "execution_count": 27,
     "metadata": {},
     "output_type": "execute_result"
    }
   ],
   "source": [
    "#Grouping the headlines for each day\n",
    "df_news['News'] = df_news.groupby(['Date']).transform(lambda x : ' '.join(x)) \n",
    "df_news = df_news.drop_duplicates() \n",
    "df_news.reset_index(inplace = True, drop = True)\n",
    "df_news"
   ]
  },
  {
   "cell_type": "code",
   "execution_count": 28,
   "metadata": {},
   "outputs": [
    {
     "data": {
      "text/plain": [
       "0      win over cena satisfying but defeating underta...\n",
       "1      Status quo will not be disturbed at Ayodhya; s...\n",
       "2      Powerless north India gropes in the dark Think...\n",
       "3      The string that pulled Stephen Hawking to Indi...\n",
       "4      Light combat craft takes India into club class...\n",
       "                             ...                        \n",
       "162    BSP focuses on Punjab; UP issues for polls Con...\n",
       "163    Wrong timing: Hike in fee for medical; dental ...\n",
       "164    Dataram signs up with Signet 70 pc govt staff ...\n",
       "165    Karnatak varsity MA results announced How to p...\n",
       "166    SEC gears up for local bodies election Higher ...\n",
       "Name: News, Length: 167, dtype: object"
      ]
     },
     "execution_count": 28,
     "metadata": {},
     "output_type": "execute_result"
    }
   ],
   "source": [
    "df_news['News']"
   ]
  },
  {
   "cell_type": "code",
   "execution_count": 29,
   "metadata": {},
   "outputs": [
    {
     "name": "stdout",
     "output_type": "stream",
     "text": [
      "Requirement already satisfied: nltk in e:\\ml_and_dl\\env\\lib\\site-packages (3.5)Note: you may need to restart the kernel to use updated packages.\n",
      "Requirement already satisfied: joblib in e:\\ml_and_dl\\env\\lib\\site-packages (from nltk) (0.15.1)\n",
      "Requirement already satisfied: click in e:\\ml_and_dl\\env\\lib\\site-packages (from nltk) (7.1.2)\n",
      "Requirement already satisfied: tqdm in e:\\ml_and_dl\\env\\lib\\site-packages (from nltk) (4.54.0)\n",
      "Requirement already satisfied: regex in e:\\ml_and_dl\\env\\lib\\site-packages (from nltk) (2020.11.13)\n",
      "\n"
     ]
    }
   ],
   "source": [
    "pip install nltk"
   ]
  },
  {
   "cell_type": "code",
   "execution_count": 30,
   "metadata": {},
   "outputs": [
    {
     "name": "stdout",
     "output_type": "stream",
     "text": [
      "Collecting package metadata (current_repodata.json): ...working... done\n",
      "Solving environment: ...working... failed with initial frozen solve. Retrying with flexible solve.\n",
      "Collecting package metadata (repodata.json): ...working... done\n",
      "Solving environment: ...working... failed with initial frozen solve. Retrying with flexible solve.\n",
      "\n",
      "Note: you may need to restart the kernel to use updated packages.\n"
     ]
    },
    {
     "name": "stderr",
     "output_type": "stream",
     "text": [
      "\n",
      "PackagesNotFoundError: The following packages are not available from current channels:\n",
      "\n",
      "  - re\n",
      "\n",
      "Current channels:\n",
      "\n",
      "  - https://repo.anaconda.com/pkgs/main/win-64\n",
      "  - https://repo.anaconda.com/pkgs/main/noarch\n",
      "  - https://repo.anaconda.com/pkgs/r/win-64\n",
      "  - https://repo.anaconda.com/pkgs/r/noarch\n",
      "  - https://repo.anaconda.com/pkgs/msys2/win-64\n",
      "  - https://repo.anaconda.com/pkgs/msys2/noarch\n",
      "\n",
      "To search for alternate channels that may provide the conda package you're\n",
      "looking for, navigate to\n",
      "\n",
      "    https://anaconda.org\n",
      "\n",
      "and use the search bar at the top of the page.\n",
      "\n",
      "\n"
     ]
    }
   ],
   "source": [
    "conda install re"
   ]
  },
  {
   "cell_type": "code",
   "execution_count": 31,
   "metadata": {},
   "outputs": [
    {
     "name": "stdout",
     "output_type": "stream",
     "text": [
      "Requirement already satisfied: textblob in e:\\ml_and_dl\\env\\lib\\site-packages (0.15.3)Note: you may need to restart the kernel to use updated packages.\n",
      "Requirement already satisfied: nltk>=3.1 in e:\\ml_and_dl\\env\\lib\\site-packages (from textblob) (3.5)\n",
      "Requirement already satisfied: joblib in e:\\ml_and_dl\\env\\lib\\site-packages (from nltk>=3.1->textblob) (0.15.1)\n",
      "Requirement already satisfied: click in e:\\ml_and_dl\\env\\lib\\site-packages (from nltk>=3.1->textblob) (7.1.2)\n",
      "Requirement already satisfied: tqdm in e:\\ml_and_dl\\env\\lib\\site-packages (from nltk>=3.1->textblob) (4.54.0)\n",
      "Requirement already satisfied: regex in e:\\ml_and_dl\\env\\lib\\site-packages (from nltk>=3.1->textblob) (2020.11.13)\n",
      "\n"
     ]
    }
   ],
   "source": [
    "pip install textblob"
   ]
  },
  {
   "cell_type": "code",
   "execution_count": 32,
   "metadata": {},
   "outputs": [
    {
     "name": "stderr",
     "output_type": "stream",
     "text": [
      "[nltk_data] Downloading package stopwords to\n",
      "[nltk_data]     C:\\Users\\Shrija\\AppData\\Roaming\\nltk_data...\n",
      "[nltk_data]   Package stopwords is already up-to-date!\n",
      "[nltk_data] Downloading package vader_lexicon to\n",
      "[nltk_data]     C:\\Users\\Shrija\\AppData\\Roaming\\nltk_data...\n",
      "[nltk_data]   Package vader_lexicon is already up-to-date!\n"
     ]
    }
   ],
   "source": [
    "#Cleaning headlines\n",
    "import nltk\n",
    "from nltk.corpus import stopwords\n",
    "nltk.download('stopwords')\n",
    "nltk.download('vader_lexicon')\n",
    "from textblob import TextBlob\n",
    "from nltk.stem.porter import PorterStemmer\n",
    "import re\n",
    "c = []\n",
    "ps=PorterStemmer()\n",
    "for i in range(0,len(df_news['News'])):\n",
    "    news = re.sub('[^a-zA-Z]',' ',df_news['News'][i])\n",
    "    news = news.lower()\n",
    "    news = news.split()\n",
    "    news = [ps.stem(word) for word in news if not word in set(stopwords.words('english'))]\n",
    "    news=' '.join(news)\n",
    "    c.append(news)"
   ]
  },
  {
   "cell_type": "code",
   "execution_count": 33,
   "metadata": {},
   "outputs": [
    {
     "data": {
      "text/html": [
       "<div>\n",
       "<style scoped>\n",
       "    .dataframe tbody tr th:only-of-type {\n",
       "        vertical-align: middle;\n",
       "    }\n",
       "\n",
       "    .dataframe tbody tr th {\n",
       "        vertical-align: top;\n",
       "    }\n",
       "\n",
       "    .dataframe thead th {\n",
       "        text-align: right;\n",
       "    }\n",
       "</style>\n",
       "<table border=\"1\" class=\"dataframe\">\n",
       "  <thead>\n",
       "    <tr style=\"text-align: right;\">\n",
       "      <th></th>\n",
       "      <th>Date</th>\n",
       "      <th>News</th>\n",
       "    </tr>\n",
       "  </thead>\n",
       "  <tbody>\n",
       "    <tr>\n",
       "      <th>0</th>\n",
       "      <td>2001-01-01</td>\n",
       "      <td>win cena satisfi defeat undertak bigger roman ...</td>\n",
       "    </tr>\n",
       "    <tr>\n",
       "      <th>1</th>\n",
       "      <td>2001-01-02</td>\n",
       "      <td>statu quo disturb ayodhya say vajpaye fissur h...</td>\n",
       "    </tr>\n",
       "    <tr>\n",
       "      <th>2</th>\n",
       "      <td>2001-01-03</td>\n",
       "      <td>powerless north india grope dark think laxman ...</td>\n",
       "    </tr>\n",
       "    <tr>\n",
       "      <th>3</th>\n",
       "      <td>2001-01-04</td>\n",
       "      <td>string pull stephen hawk india vajpaye give bi...</td>\n",
       "    </tr>\n",
       "    <tr>\n",
       "      <th>4</th>\n",
       "      <td>2001-01-05</td>\n",
       "      <td>light combat craft take india club class hawk ...</td>\n",
       "    </tr>\n",
       "    <tr>\n",
       "      <th>...</th>\n",
       "      <td>...</td>\n",
       "      <td>...</td>\n",
       "    </tr>\n",
       "    <tr>\n",
       "      <th>162</th>\n",
       "      <td>2001-07-23</td>\n",
       "      <td>bsp focus punjab issu poll cong worker kill am...</td>\n",
       "    </tr>\n",
       "    <tr>\n",
       "      <th>163</th>\n",
       "      <td>2001-07-24</td>\n",
       "      <td>wrong time hike fee medic dental cours sebi su...</td>\n",
       "    </tr>\n",
       "    <tr>\n",
       "      <th>164</th>\n",
       "      <td>2001-07-25</td>\n",
       "      <td>dataram sign signet pc govt staff join stir se...</td>\n",
       "    </tr>\n",
       "    <tr>\n",
       "      <th>165</th>\n",
       "      <td>2001-07-26</td>\n",
       "      <td>karnatak varsiti result announc poach partner ...</td>\n",
       "    </tr>\n",
       "    <tr>\n",
       "      <th>166</th>\n",
       "      <td>2001-07-27</td>\n",
       "      <td>sec gear local bodi elect higher number quack ...</td>\n",
       "    </tr>\n",
       "  </tbody>\n",
       "</table>\n",
       "<p>167 rows × 2 columns</p>\n",
       "</div>"
      ],
      "text/plain": [
       "          Date                                               News\n",
       "0   2001-01-01  win cena satisfi defeat undertak bigger roman ...\n",
       "1   2001-01-02  statu quo disturb ayodhya say vajpaye fissur h...\n",
       "2   2001-01-03  powerless north india grope dark think laxman ...\n",
       "3   2001-01-04  string pull stephen hawk india vajpaye give bi...\n",
       "4   2001-01-05  light combat craft take india club class hawk ...\n",
       "..         ...                                                ...\n",
       "162 2001-07-23  bsp focus punjab issu poll cong worker kill am...\n",
       "163 2001-07-24  wrong time hike fee medic dental cours sebi su...\n",
       "164 2001-07-25  dataram sign signet pc govt staff join stir se...\n",
       "165 2001-07-26  karnatak varsiti result announc poach partner ...\n",
       "166 2001-07-27  sec gear local bodi elect higher number quack ...\n",
       "\n",
       "[167 rows x 2 columns]"
      ]
     },
     "execution_count": 33,
     "metadata": {},
     "output_type": "execute_result"
    }
   ],
   "source": [
    "df_news['News'] = pd.Series(c)\n",
    "df_news"
   ]
  },
  {
   "cell_type": "code",
   "execution_count": 34,
   "metadata": {},
   "outputs": [],
   "source": [
    "from nltk.sentiment.vader import SentimentIntensityAnalyzer"
   ]
  },
  {
   "cell_type": "code",
   "execution_count": 35,
   "metadata": {},
   "outputs": [],
   "source": [
    "#Functions to get the subjectivity and polarity\n",
    "def getSubjectivity(text):\n",
    "    return TextBlob(text).sentiment.subjectivity\n",
    "\n",
    "def getPolarity(text):\n",
    "    return  TextBlob(text).sentiment.polarity"
   ]
  },
  {
   "cell_type": "code",
   "execution_count": 36,
   "metadata": {},
   "outputs": [
    {
     "data": {
      "text/html": [
       "<div>\n",
       "<style scoped>\n",
       "    .dataframe tbody tr th:only-of-type {\n",
       "        vertical-align: middle;\n",
       "    }\n",
       "\n",
       "    .dataframe tbody tr th {\n",
       "        vertical-align: top;\n",
       "    }\n",
       "\n",
       "    .dataframe thead th {\n",
       "        text-align: right;\n",
       "    }\n",
       "</style>\n",
       "<table border=\"1\" class=\"dataframe\">\n",
       "  <thead>\n",
       "    <tr style=\"text-align: right;\">\n",
       "      <th></th>\n",
       "      <th>Date</th>\n",
       "      <th>News</th>\n",
       "      <th>Subjectivity</th>\n",
       "      <th>Polarity</th>\n",
       "    </tr>\n",
       "  </thead>\n",
       "  <tbody>\n",
       "    <tr>\n",
       "      <th>0</th>\n",
       "      <td>2001-01-01</td>\n",
       "      <td>win cena satisfi defeat undertak bigger roman ...</td>\n",
       "      <td>0.450000</td>\n",
       "      <td>0.400000</td>\n",
       "    </tr>\n",
       "    <tr>\n",
       "      <th>1</th>\n",
       "      <td>2001-01-02</td>\n",
       "      <td>statu quo disturb ayodhya say vajpaye fissur h...</td>\n",
       "      <td>0.298148</td>\n",
       "      <td>0.099074</td>\n",
       "    </tr>\n",
       "    <tr>\n",
       "      <th>2</th>\n",
       "      <td>2001-01-03</td>\n",
       "      <td>powerless north india grope dark think laxman ...</td>\n",
       "      <td>0.429167</td>\n",
       "      <td>0.025000</td>\n",
       "    </tr>\n",
       "    <tr>\n",
       "      <th>3</th>\n",
       "      <td>2001-01-04</td>\n",
       "      <td>string pull stephen hawk india vajpaye give bi...</td>\n",
       "      <td>0.475140</td>\n",
       "      <td>0.032481</td>\n",
       "    </tr>\n",
       "    <tr>\n",
       "      <th>4</th>\n",
       "      <td>2001-01-05</td>\n",
       "      <td>light combat craft take india club class hawk ...</td>\n",
       "      <td>0.458412</td>\n",
       "      <td>0.296404</td>\n",
       "    </tr>\n",
       "    <tr>\n",
       "      <th>...</th>\n",
       "      <td>...</td>\n",
       "      <td>...</td>\n",
       "      <td>...</td>\n",
       "      <td>...</td>\n",
       "    </tr>\n",
       "    <tr>\n",
       "      <th>162</th>\n",
       "      <td>2001-07-23</td>\n",
       "      <td>bsp focus punjab issu poll cong worker kill am...</td>\n",
       "      <td>0.373858</td>\n",
       "      <td>-0.007289</td>\n",
       "    </tr>\n",
       "    <tr>\n",
       "      <th>163</th>\n",
       "      <td>2001-07-24</td>\n",
       "      <td>wrong time hike fee medic dental cours sebi su...</td>\n",
       "      <td>0.466599</td>\n",
       "      <td>0.018876</td>\n",
       "    </tr>\n",
       "    <tr>\n",
       "      <th>164</th>\n",
       "      <td>2001-07-25</td>\n",
       "      <td>dataram sign signet pc govt staff join stir se...</td>\n",
       "      <td>0.331401</td>\n",
       "      <td>-0.017403</td>\n",
       "    </tr>\n",
       "    <tr>\n",
       "      <th>165</th>\n",
       "      <td>2001-07-26</td>\n",
       "      <td>karnatak varsiti result announc poach partner ...</td>\n",
       "      <td>0.333554</td>\n",
       "      <td>-0.008239</td>\n",
       "    </tr>\n",
       "    <tr>\n",
       "      <th>166</th>\n",
       "      <td>2001-07-27</td>\n",
       "      <td>sec gear local bodi elect higher number quack ...</td>\n",
       "      <td>0.414145</td>\n",
       "      <td>0.023484</td>\n",
       "    </tr>\n",
       "  </tbody>\n",
       "</table>\n",
       "<p>167 rows × 4 columns</p>\n",
       "</div>"
      ],
      "text/plain": [
       "          Date                                               News  \\\n",
       "0   2001-01-01  win cena satisfi defeat undertak bigger roman ...   \n",
       "1   2001-01-02  statu quo disturb ayodhya say vajpaye fissur h...   \n",
       "2   2001-01-03  powerless north india grope dark think laxman ...   \n",
       "3   2001-01-04  string pull stephen hawk india vajpaye give bi...   \n",
       "4   2001-01-05  light combat craft take india club class hawk ...   \n",
       "..         ...                                                ...   \n",
       "162 2001-07-23  bsp focus punjab issu poll cong worker kill am...   \n",
       "163 2001-07-24  wrong time hike fee medic dental cours sebi su...   \n",
       "164 2001-07-25  dataram sign signet pc govt staff join stir se...   \n",
       "165 2001-07-26  karnatak varsiti result announc poach partner ...   \n",
       "166 2001-07-27  sec gear local bodi elect higher number quack ...   \n",
       "\n",
       "     Subjectivity  Polarity  \n",
       "0        0.450000  0.400000  \n",
       "1        0.298148  0.099074  \n",
       "2        0.429167  0.025000  \n",
       "3        0.475140  0.032481  \n",
       "4        0.458412  0.296404  \n",
       "..            ...       ...  \n",
       "162      0.373858 -0.007289  \n",
       "163      0.466599  0.018876  \n",
       "164      0.331401 -0.017403  \n",
       "165      0.333554 -0.008239  \n",
       "166      0.414145  0.023484  \n",
       "\n",
       "[167 rows x 4 columns]"
      ]
     },
     "execution_count": 36,
     "metadata": {},
     "output_type": "execute_result"
    }
   ],
   "source": [
    "#Adding subjectivity and polarity columns\n",
    "df_news['Subjectivity'] = df_news['News'].apply(getSubjectivity)\n",
    "df_news['Polarity'] = df_news['News'].apply(getPolarity)\n",
    "df_news"
   ]
  },
  {
   "cell_type": "code",
   "execution_count": 37,
   "metadata": {},
   "outputs": [
    {
     "data": {
      "text/plain": [
       "<matplotlib.axes._subplots.AxesSubplot at 0x2430358de20>"
      ]
     },
     "execution_count": 37,
     "metadata": {},
     "output_type": "execute_result"
    },
    {
     "data": {
      "image/png": "[encoded data removed]",
      "text/plain": [
       "<Figure size 720x432 with 1 Axes>"
      ]
     },
     "metadata": {
      "needs_background": "light"
     },
     "output_type": "display_data"
    }
   ],
   "source": [
    "plt.figure(figsize = (10,6))\n",
    "df_news['Polarity'].hist(color = 'purple')"
   ]
  },
  {
   "cell_type": "code",
   "execution_count": 38,
   "metadata": {},
   "outputs": [
    {
     "data": {
      "text/plain": [
       "<matplotlib.axes._subplots.AxesSubplot at 0x243033fe4c0>"
      ]
     },
     "execution_count": 38,
     "metadata": {},
     "output_type": "execute_result"
    },
    {
     "data": {
      "image/png": "[encoded data removed]",
      "text/plain": [
       "<Figure size 720x432 with 1 Axes>"
      ]
     },
     "metadata": {
      "needs_background": "light"
     },
     "output_type": "display_data"
    }
   ],
   "source": [
    "plt.figure(figsize = (10,6))\n",
    "df_news['Subjectivity'].hist(color = 'blue')"
   ]
  },
  {
   "cell_type": "code",
   "execution_count": 39,
   "metadata": {},
   "outputs": [
    {
     "data": {
      "text/html": [
       "<div>\n",
       "<style scoped>\n",
       "    .dataframe tbody tr th:only-of-type {\n",
       "        vertical-align: middle;\n",
       "    }\n",
       "\n",
       "    .dataframe tbody tr th {\n",
       "        vertical-align: top;\n",
       "    }\n",
       "\n",
       "    .dataframe thead th {\n",
       "        text-align: right;\n",
       "    }\n",
       "</style>\n",
       "<table border=\"1\" class=\"dataframe\">\n",
       "  <thead>\n",
       "    <tr style=\"text-align: right;\">\n",
       "      <th></th>\n",
       "      <th>Date</th>\n",
       "      <th>News</th>\n",
       "      <th>Subjectivity</th>\n",
       "      <th>Polarity</th>\n",
       "      <th>Compound</th>\n",
       "      <th>Negative</th>\n",
       "      <th>Neutral</th>\n",
       "      <th>Positive</th>\n",
       "    </tr>\n",
       "  </thead>\n",
       "  <tbody>\n",
       "    <tr>\n",
       "      <th>0</th>\n",
       "      <td>2001-01-01</td>\n",
       "      <td>win cena satisfi defeat undertak bigger roman ...</td>\n",
       "      <td>0.450000</td>\n",
       "      <td>0.400000</td>\n",
       "      <td>0.2023</td>\n",
       "      <td>0.234</td>\n",
       "      <td>0.469</td>\n",
       "      <td>0.297</td>\n",
       "    </tr>\n",
       "    <tr>\n",
       "      <th>1</th>\n",
       "      <td>2001-01-02</td>\n",
       "      <td>statu quo disturb ayodhya say vajpaye fissur h...</td>\n",
       "      <td>0.298148</td>\n",
       "      <td>0.099074</td>\n",
       "      <td>-0.8555</td>\n",
       "      <td>0.125</td>\n",
       "      <td>0.773</td>\n",
       "      <td>0.102</td>\n",
       "    </tr>\n",
       "    <tr>\n",
       "      <th>2</th>\n",
       "      <td>2001-01-03</td>\n",
       "      <td>powerless north india grope dark think laxman ...</td>\n",
       "      <td>0.429167</td>\n",
       "      <td>0.025000</td>\n",
       "      <td>-0.5994</td>\n",
       "      <td>0.132</td>\n",
       "      <td>0.755</td>\n",
       "      <td>0.113</td>\n",
       "    </tr>\n",
       "    <tr>\n",
       "      <th>3</th>\n",
       "      <td>2001-01-04</td>\n",
       "      <td>string pull stephen hawk india vajpaye give bi...</td>\n",
       "      <td>0.475140</td>\n",
       "      <td>0.032481</td>\n",
       "      <td>0.9169</td>\n",
       "      <td>0.099</td>\n",
       "      <td>0.791</td>\n",
       "      <td>0.110</td>\n",
       "    </tr>\n",
       "    <tr>\n",
       "      <th>4</th>\n",
       "      <td>2001-01-05</td>\n",
       "      <td>light combat craft take india club class hawk ...</td>\n",
       "      <td>0.458412</td>\n",
       "      <td>0.296404</td>\n",
       "      <td>-0.3612</td>\n",
       "      <td>0.171</td>\n",
       "      <td>0.659</td>\n",
       "      <td>0.170</td>\n",
       "    </tr>\n",
       "    <tr>\n",
       "      <th>...</th>\n",
       "      <td>...</td>\n",
       "      <td>...</td>\n",
       "      <td>...</td>\n",
       "      <td>...</td>\n",
       "      <td>...</td>\n",
       "      <td>...</td>\n",
       "      <td>...</td>\n",
       "      <td>...</td>\n",
       "    </tr>\n",
       "    <tr>\n",
       "      <th>162</th>\n",
       "      <td>2001-07-23</td>\n",
       "      <td>bsp focus punjab issu poll cong worker kill am...</td>\n",
       "      <td>0.373858</td>\n",
       "      <td>-0.007289</td>\n",
       "      <td>-0.9967</td>\n",
       "      <td>0.139</td>\n",
       "      <td>0.790</td>\n",
       "      <td>0.071</td>\n",
       "    </tr>\n",
       "    <tr>\n",
       "      <th>163</th>\n",
       "      <td>2001-07-24</td>\n",
       "      <td>wrong time hike fee medic dental cours sebi su...</td>\n",
       "      <td>0.466599</td>\n",
       "      <td>0.018876</td>\n",
       "      <td>-0.9993</td>\n",
       "      <td>0.172</td>\n",
       "      <td>0.749</td>\n",
       "      <td>0.079</td>\n",
       "    </tr>\n",
       "    <tr>\n",
       "      <th>164</th>\n",
       "      <td>2001-07-25</td>\n",
       "      <td>dataram sign signet pc govt staff join stir se...</td>\n",
       "      <td>0.331401</td>\n",
       "      <td>-0.017403</td>\n",
       "      <td>-0.9988</td>\n",
       "      <td>0.159</td>\n",
       "      <td>0.771</td>\n",
       "      <td>0.070</td>\n",
       "    </tr>\n",
       "    <tr>\n",
       "      <th>165</th>\n",
       "      <td>2001-07-26</td>\n",
       "      <td>karnatak varsiti result announc poach partner ...</td>\n",
       "      <td>0.333554</td>\n",
       "      <td>-0.008239</td>\n",
       "      <td>-0.9997</td>\n",
       "      <td>0.195</td>\n",
       "      <td>0.722</td>\n",
       "      <td>0.084</td>\n",
       "    </tr>\n",
       "    <tr>\n",
       "      <th>166</th>\n",
       "      <td>2001-07-27</td>\n",
       "      <td>sec gear local bodi elect higher number quack ...</td>\n",
       "      <td>0.414145</td>\n",
       "      <td>0.023484</td>\n",
       "      <td>-0.9989</td>\n",
       "      <td>0.145</td>\n",
       "      <td>0.802</td>\n",
       "      <td>0.053</td>\n",
       "    </tr>\n",
       "  </tbody>\n",
       "</table>\n",
       "<p>167 rows × 8 columns</p>\n",
       "</div>"
      ],
      "text/plain": [
       "          Date                                               News  \\\n",
       "0   2001-01-01  win cena satisfi defeat undertak bigger roman ...   \n",
       "1   2001-01-02  statu quo disturb ayodhya say vajpaye fissur h...   \n",
       "2   2001-01-03  powerless north india grope dark think laxman ...   \n",
       "3   2001-01-04  string pull stephen hawk india vajpaye give bi...   \n",
       "4   2001-01-05  light combat craft take india club class hawk ...   \n",
       "..         ...                                                ...   \n",
       "162 2001-07-23  bsp focus punjab issu poll cong worker kill am...   \n",
       "163 2001-07-24  wrong time hike fee medic dental cours sebi su...   \n",
       "164 2001-07-25  dataram sign signet pc govt staff join stir se...   \n",
       "165 2001-07-26  karnatak varsiti result announc poach partner ...   \n",
       "166 2001-07-27  sec gear local bodi elect higher number quack ...   \n",
       "\n",
       "     Subjectivity  Polarity  Compound  Negative  Neutral  Positive  \n",
       "0        0.450000  0.400000    0.2023     0.234    0.469     0.297  \n",
       "1        0.298148  0.099074   -0.8555     0.125    0.773     0.102  \n",
       "2        0.429167  0.025000   -0.5994     0.132    0.755     0.113  \n",
       "3        0.475140  0.032481    0.9169     0.099    0.791     0.110  \n",
       "4        0.458412  0.296404   -0.3612     0.171    0.659     0.170  \n",
       "..            ...       ...       ...       ...      ...       ...  \n",
       "162      0.373858 -0.007289   -0.9967     0.139    0.790     0.071  \n",
       "163      0.466599  0.018876   -0.9993     0.172    0.749     0.079  \n",
       "164      0.331401 -0.017403   -0.9988     0.159    0.771     0.070  \n",
       "165      0.333554 -0.008239   -0.9997     0.195    0.722     0.084  \n",
       "166      0.414145  0.023484   -0.9989     0.145    0.802     0.053  \n",
       "\n",
       "[167 rows x 8 columns]"
      ]
     },
     "execution_count": 39,
     "metadata": {},
     "output_type": "execute_result"
    }
   ],
   "source": [
    "#Adding sentiment score to df_news\n",
    "sia = SentimentIntensityAnalyzer()\n",
    "\n",
    "df_news['Compound'] = [sia.polarity_scores(v)['compound'] for v in df_news['News']]\n",
    "df_news['Negative'] = [sia.polarity_scores(v)['neg'] for v in df_news['News']]\n",
    "df_news['Neutral'] = [sia.polarity_scores(v)['neu'] for v in df_news['News']]\n",
    "df_news['Positive'] = [sia.polarity_scores(v)['pos'] for v in df_news['News']]\n",
    "df_news"
   ]
  },
  {
   "cell_type": "code",
   "execution_count": 41,
   "metadata": {},
   "outputs": [
    {
     "data": {
      "text/html": [
       "<div>\n",
       "<style scoped>\n",
       "    .dataframe tbody tr th:only-of-type {\n",
       "        vertical-align: middle;\n",
       "    }\n",
       "\n",
       "    .dataframe tbody tr th {\n",
       "        vertical-align: top;\n",
       "    }\n",
       "\n",
       "    .dataframe thead th {\n",
       "        text-align: right;\n",
       "    }\n",
       "</style>\n",
       "<table border=\"1\" class=\"dataframe\">\n",
       "  <thead>\n",
       "    <tr style=\"text-align: right;\">\n",
       "      <th></th>\n",
       "      <th>Date</th>\n",
       "      <th>Open</th>\n",
       "      <th>High</th>\n",
       "      <th>Low</th>\n",
       "      <th>Close</th>\n",
       "      <th>Adj Close</th>\n",
       "      <th>Volume</th>\n",
       "      <th>News</th>\n",
       "      <th>Subjectivity</th>\n",
       "      <th>Polarity</th>\n",
       "      <th>Compound</th>\n",
       "      <th>Negative</th>\n",
       "      <th>Neutral</th>\n",
       "      <th>Positive</th>\n",
       "    </tr>\n",
       "  </thead>\n",
       "  <tbody>\n",
       "    <tr>\n",
       "      <th>0</th>\n",
       "      <td>2001-01-02</td>\n",
       "      <td>3953.219971</td>\n",
       "      <td>4028.570068</td>\n",
       "      <td>3929.370117</td>\n",
       "      <td>4018.879883</td>\n",
       "      <td>4018.879883</td>\n",
       "      <td>0.0</td>\n",
       "      <td>statu quo disturb ayodhya say vajpaye fissur h...</td>\n",
       "      <td>0.298148</td>\n",
       "      <td>0.099074</td>\n",
       "      <td>-0.8555</td>\n",
       "      <td>0.125</td>\n",
       "      <td>0.773</td>\n",
       "      <td>0.102</td>\n",
       "    </tr>\n",
       "    <tr>\n",
       "      <th>1</th>\n",
       "      <td>2001-01-03</td>\n",
       "      <td>3977.580078</td>\n",
       "      <td>4067.659912</td>\n",
       "      <td>3977.580078</td>\n",
       "      <td>4060.020020</td>\n",
       "      <td>4060.020020</td>\n",
       "      <td>0.0</td>\n",
       "      <td>powerless north india grope dark think laxman ...</td>\n",
       "      <td>0.429167</td>\n",
       "      <td>0.025000</td>\n",
       "      <td>-0.5994</td>\n",
       "      <td>0.132</td>\n",
       "      <td>0.755</td>\n",
       "      <td>0.113</td>\n",
       "    </tr>\n",
       "    <tr>\n",
       "      <th>2</th>\n",
       "      <td>2001-01-04</td>\n",
       "      <td>4180.970215</td>\n",
       "      <td>4180.970215</td>\n",
       "      <td>4109.549805</td>\n",
       "      <td>4115.370117</td>\n",
       "      <td>4115.370117</td>\n",
       "      <td>0.0</td>\n",
       "      <td>string pull stephen hawk india vajpaye give bi...</td>\n",
       "      <td>0.475140</td>\n",
       "      <td>0.032481</td>\n",
       "      <td>0.9169</td>\n",
       "      <td>0.099</td>\n",
       "      <td>0.791</td>\n",
       "      <td>0.110</td>\n",
       "    </tr>\n",
       "    <tr>\n",
       "      <th>3</th>\n",
       "      <td>2001-01-05</td>\n",
       "      <td>4116.339844</td>\n",
       "      <td>4195.009766</td>\n",
       "      <td>4115.350098</td>\n",
       "      <td>4183.729980</td>\n",
       "      <td>4183.729980</td>\n",
       "      <td>0.0</td>\n",
       "      <td>light combat craft take india club class hawk ...</td>\n",
       "      <td>0.458412</td>\n",
       "      <td>0.296404</td>\n",
       "      <td>-0.3612</td>\n",
       "      <td>0.171</td>\n",
       "      <td>0.659</td>\n",
       "      <td>0.170</td>\n",
       "    </tr>\n",
       "    <tr>\n",
       "      <th>4</th>\n",
       "      <td>2001-01-08</td>\n",
       "      <td>4164.759766</td>\n",
       "      <td>4206.720215</td>\n",
       "      <td>4101.529785</td>\n",
       "      <td>4120.430176</td>\n",
       "      <td>4120.430176</td>\n",
       "      <td>0.0</td>\n",
       "      <td>sangh parivar babri panel ant frontrunn key us...</td>\n",
       "      <td>0.486204</td>\n",
       "      <td>-0.035142</td>\n",
       "      <td>-0.6808</td>\n",
       "      <td>0.100</td>\n",
       "      <td>0.816</td>\n",
       "      <td>0.084</td>\n",
       "    </tr>\n",
       "    <tr>\n",
       "      <th>...</th>\n",
       "      <td>...</td>\n",
       "      <td>...</td>\n",
       "      <td>...</td>\n",
       "      <td>...</td>\n",
       "      <td>...</td>\n",
       "      <td>...</td>\n",
       "      <td>...</td>\n",
       "      <td>...</td>\n",
       "      <td>...</td>\n",
       "      <td>...</td>\n",
       "      <td>...</td>\n",
       "      <td>...</td>\n",
       "      <td>...</td>\n",
       "      <td>...</td>\n",
       "    </tr>\n",
       "    <tr>\n",
       "      <th>111</th>\n",
       "      <td>2001-07-23</td>\n",
       "      <td>3340.889893</td>\n",
       "      <td>3340.889893</td>\n",
       "      <td>3310.949951</td>\n",
       "      <td>3330.979980</td>\n",
       "      <td>3330.979980</td>\n",
       "      <td>0.0</td>\n",
       "      <td>bsp focus punjab issu poll cong worker kill am...</td>\n",
       "      <td>0.373858</td>\n",
       "      <td>-0.007289</td>\n",
       "      <td>-0.9967</td>\n",
       "      <td>0.139</td>\n",
       "      <td>0.790</td>\n",
       "      <td>0.071</td>\n",
       "    </tr>\n",
       "    <tr>\n",
       "      <th>112</th>\n",
       "      <td>2001-07-24</td>\n",
       "      <td>3326.840088</td>\n",
       "      <td>3340.909912</td>\n",
       "      <td>3306.169922</td>\n",
       "      <td>3335.080078</td>\n",
       "      <td>3335.080078</td>\n",
       "      <td>0.0</td>\n",
       "      <td>wrong time hike fee medic dental cours sebi su...</td>\n",
       "      <td>0.466599</td>\n",
       "      <td>0.018876</td>\n",
       "      <td>-0.9993</td>\n",
       "      <td>0.172</td>\n",
       "      <td>0.749</td>\n",
       "      <td>0.079</td>\n",
       "    </tr>\n",
       "    <tr>\n",
       "      <th>113</th>\n",
       "      <td>2001-07-25</td>\n",
       "      <td>3307.159912</td>\n",
       "      <td>3338.219971</td>\n",
       "      <td>3296.429932</td>\n",
       "      <td>3301.969971</td>\n",
       "      <td>3301.969971</td>\n",
       "      <td>0.0</td>\n",
       "      <td>dataram sign signet pc govt staff join stir se...</td>\n",
       "      <td>0.331401</td>\n",
       "      <td>-0.017403</td>\n",
       "      <td>-0.9988</td>\n",
       "      <td>0.159</td>\n",
       "      <td>0.771</td>\n",
       "      <td>0.070</td>\n",
       "    </tr>\n",
       "    <tr>\n",
       "      <th>114</th>\n",
       "      <td>2001-07-26</td>\n",
       "      <td>3298.639893</td>\n",
       "      <td>3318.600098</td>\n",
       "      <td>3254.280029</td>\n",
       "      <td>3259.030029</td>\n",
       "      <td>3259.030029</td>\n",
       "      <td>0.0</td>\n",
       "      <td>karnatak varsiti result announc poach partner ...</td>\n",
       "      <td>0.333554</td>\n",
       "      <td>-0.008239</td>\n",
       "      <td>-0.9997</td>\n",
       "      <td>0.195</td>\n",
       "      <td>0.722</td>\n",
       "      <td>0.084</td>\n",
       "    </tr>\n",
       "    <tr>\n",
       "      <th>115</th>\n",
       "      <td>2001-07-27</td>\n",
       "      <td>3260.040039</td>\n",
       "      <td>3278.850098</td>\n",
       "      <td>3241.659912</td>\n",
       "      <td>3251.530029</td>\n",
       "      <td>3251.530029</td>\n",
       "      <td>0.0</td>\n",
       "      <td>sec gear local bodi elect higher number quack ...</td>\n",
       "      <td>0.414145</td>\n",
       "      <td>0.023484</td>\n",
       "      <td>-0.9989</td>\n",
       "      <td>0.145</td>\n",
       "      <td>0.802</td>\n",
       "      <td>0.053</td>\n",
       "    </tr>\n",
       "  </tbody>\n",
       "</table>\n",
       "<p>116 rows × 14 columns</p>\n",
       "</div>"
      ],
      "text/plain": [
       "          Date         Open         High          Low        Close  \\\n",
       "0   2001-01-02  3953.219971  4028.570068  3929.370117  4018.879883   \n",
       "1   2001-01-03  3977.580078  4067.659912  3977.580078  4060.020020   \n",
       "2   2001-01-04  4180.970215  4180.970215  4109.549805  4115.370117   \n",
       "3   2001-01-05  4116.339844  4195.009766  4115.350098  4183.729980   \n",
       "4   2001-01-08  4164.759766  4206.720215  4101.529785  4120.430176   \n",
       "..         ...          ...          ...          ...          ...   \n",
       "111 2001-07-23  3340.889893  3340.889893  3310.949951  3330.979980   \n",
       "112 2001-07-24  3326.840088  3340.909912  3306.169922  3335.080078   \n",
       "113 2001-07-25  3307.159912  3338.219971  3296.429932  3301.969971   \n",
       "114 2001-07-26  3298.639893  3318.600098  3254.280029  3259.030029   \n",
       "115 2001-07-27  3260.040039  3278.850098  3241.659912  3251.530029   \n",
       "\n",
       "       Adj Close  Volume                                               News  \\\n",
       "0    4018.879883     0.0  statu quo disturb ayodhya say vajpaye fissur h...   \n",
       "1    4060.020020     0.0  powerless north india grope dark think laxman ...   \n",
       "2    4115.370117     0.0  string pull stephen hawk india vajpaye give bi...   \n",
       "3    4183.729980     0.0  light combat craft take india club class hawk ...   \n",
       "4    4120.430176     0.0  sangh parivar babri panel ant frontrunn key us...   \n",
       "..           ...     ...                                                ...   \n",
       "111  3330.979980     0.0  bsp focus punjab issu poll cong worker kill am...   \n",
       "112  3335.080078     0.0  wrong time hike fee medic dental cours sebi su...   \n",
       "113  3301.969971     0.0  dataram sign signet pc govt staff join stir se...   \n",
       "114  3259.030029     0.0  karnatak varsiti result announc poach partner ...   \n",
       "115  3251.530029     0.0  sec gear local bodi elect higher number quack ...   \n",
       "\n",
       "     Subjectivity  Polarity  Compound  Negative  Neutral  Positive  \n",
       "0        0.298148  0.099074   -0.8555     0.125    0.773     0.102  \n",
       "1        0.429167  0.025000   -0.5994     0.132    0.755     0.113  \n",
       "2        0.475140  0.032481    0.9169     0.099    0.791     0.110  \n",
       "3        0.458412  0.296404   -0.3612     0.171    0.659     0.170  \n",
       "4        0.486204 -0.035142   -0.6808     0.100    0.816     0.084  \n",
       "..            ...       ...       ...       ...      ...       ...  \n",
       "111      0.373858 -0.007289   -0.9967     0.139    0.790     0.071  \n",
       "112      0.466599  0.018876   -0.9993     0.172    0.749     0.079  \n",
       "113      0.331401 -0.017403   -0.9988     0.159    0.771     0.070  \n",
       "114      0.333554 -0.008239   -0.9997     0.195    0.722     0.084  \n",
       "115      0.414145  0.023484   -0.9989     0.145    0.802     0.053  \n",
       "\n",
       "[116 rows x 14 columns]"
      ]
     },
     "execution_count": 41,
     "metadata": {},
     "output_type": "execute_result"
    }
   ],
   "source": [
    "df_merge = pd.merge(df, df_news, how='inner', on='Date')\n",
    "df_merge"
   ]
  },
  {
   "cell_type": "code",
   "execution_count": 42,
   "metadata": {},
   "outputs": [
    {
     "data": {
      "text/html": [
       "<div>\n",
       "<style scoped>\n",
       "    .dataframe tbody tr th:only-of-type {\n",
       "        vertical-align: middle;\n",
       "    }\n",
       "\n",
       "    .dataframe tbody tr th {\n",
       "        vertical-align: top;\n",
       "    }\n",
       "\n",
       "    .dataframe thead th {\n",
       "        text-align: right;\n",
       "    }\n",
       "</style>\n",
       "<table border=\"1\" class=\"dataframe\">\n",
       "  <thead>\n",
       "    <tr style=\"text-align: right;\">\n",
       "      <th></th>\n",
       "      <th>Close</th>\n",
       "      <th>Subjectivity</th>\n",
       "      <th>Polarity</th>\n",
       "      <th>Compound</th>\n",
       "      <th>Negative</th>\n",
       "      <th>Neutral</th>\n",
       "      <th>Positive</th>\n",
       "    </tr>\n",
       "  </thead>\n",
       "  <tbody>\n",
       "    <tr>\n",
       "      <th>0</th>\n",
       "      <td>4018.879883</td>\n",
       "      <td>0.298148</td>\n",
       "      <td>0.099074</td>\n",
       "      <td>-0.8555</td>\n",
       "      <td>0.125</td>\n",
       "      <td>0.773</td>\n",
       "      <td>0.102</td>\n",
       "    </tr>\n",
       "    <tr>\n",
       "      <th>1</th>\n",
       "      <td>4060.020020</td>\n",
       "      <td>0.429167</td>\n",
       "      <td>0.025000</td>\n",
       "      <td>-0.5994</td>\n",
       "      <td>0.132</td>\n",
       "      <td>0.755</td>\n",
       "      <td>0.113</td>\n",
       "    </tr>\n",
       "    <tr>\n",
       "      <th>2</th>\n",
       "      <td>4115.370117</td>\n",
       "      <td>0.475140</td>\n",
       "      <td>0.032481</td>\n",
       "      <td>0.9169</td>\n",
       "      <td>0.099</td>\n",
       "      <td>0.791</td>\n",
       "      <td>0.110</td>\n",
       "    </tr>\n",
       "    <tr>\n",
       "      <th>3</th>\n",
       "      <td>4183.729980</td>\n",
       "      <td>0.458412</td>\n",
       "      <td>0.296404</td>\n",
       "      <td>-0.3612</td>\n",
       "      <td>0.171</td>\n",
       "      <td>0.659</td>\n",
       "      <td>0.170</td>\n",
       "    </tr>\n",
       "    <tr>\n",
       "      <th>4</th>\n",
       "      <td>4120.430176</td>\n",
       "      <td>0.486204</td>\n",
       "      <td>-0.035142</td>\n",
       "      <td>-0.6808</td>\n",
       "      <td>0.100</td>\n",
       "      <td>0.816</td>\n",
       "      <td>0.084</td>\n",
       "    </tr>\n",
       "    <tr>\n",
       "      <th>...</th>\n",
       "      <td>...</td>\n",
       "      <td>...</td>\n",
       "      <td>...</td>\n",
       "      <td>...</td>\n",
       "      <td>...</td>\n",
       "      <td>...</td>\n",
       "      <td>...</td>\n",
       "    </tr>\n",
       "    <tr>\n",
       "      <th>111</th>\n",
       "      <td>3330.979980</td>\n",
       "      <td>0.373858</td>\n",
       "      <td>-0.007289</td>\n",
       "      <td>-0.9967</td>\n",
       "      <td>0.139</td>\n",
       "      <td>0.790</td>\n",
       "      <td>0.071</td>\n",
       "    </tr>\n",
       "    <tr>\n",
       "      <th>112</th>\n",
       "      <td>3335.080078</td>\n",
       "      <td>0.466599</td>\n",
       "      <td>0.018876</td>\n",
       "      <td>-0.9993</td>\n",
       "      <td>0.172</td>\n",
       "      <td>0.749</td>\n",
       "      <td>0.079</td>\n",
       "    </tr>\n",
       "    <tr>\n",
       "      <th>113</th>\n",
       "      <td>3301.969971</td>\n",
       "      <td>0.331401</td>\n",
       "      <td>-0.017403</td>\n",
       "      <td>-0.9988</td>\n",
       "      <td>0.159</td>\n",
       "      <td>0.771</td>\n",
       "      <td>0.070</td>\n",
       "    </tr>\n",
       "    <tr>\n",
       "      <th>114</th>\n",
       "      <td>3259.030029</td>\n",
       "      <td>0.333554</td>\n",
       "      <td>-0.008239</td>\n",
       "      <td>-0.9997</td>\n",
       "      <td>0.195</td>\n",
       "      <td>0.722</td>\n",
       "      <td>0.084</td>\n",
       "    </tr>\n",
       "    <tr>\n",
       "      <th>115</th>\n",
       "      <td>3251.530029</td>\n",
       "      <td>0.414145</td>\n",
       "      <td>0.023484</td>\n",
       "      <td>-0.9989</td>\n",
       "      <td>0.145</td>\n",
       "      <td>0.802</td>\n",
       "      <td>0.053</td>\n",
       "    </tr>\n",
       "  </tbody>\n",
       "</table>\n",
       "<p>116 rows × 7 columns</p>\n",
       "</div>"
      ],
      "text/plain": [
       "           Close  Subjectivity  Polarity  Compound  Negative  Neutral  \\\n",
       "0    4018.879883      0.298148  0.099074   -0.8555     0.125    0.773   \n",
       "1    4060.020020      0.429167  0.025000   -0.5994     0.132    0.755   \n",
       "2    4115.370117      0.475140  0.032481    0.9169     0.099    0.791   \n",
       "3    4183.729980      0.458412  0.296404   -0.3612     0.171    0.659   \n",
       "4    4120.430176      0.486204 -0.035142   -0.6808     0.100    0.816   \n",
       "..           ...           ...       ...       ...       ...      ...   \n",
       "111  3330.979980      0.373858 -0.007289   -0.9967     0.139    0.790   \n",
       "112  3335.080078      0.466599  0.018876   -0.9993     0.172    0.749   \n",
       "113  3301.969971      0.331401 -0.017403   -0.9988     0.159    0.771   \n",
       "114  3259.030029      0.333554 -0.008239   -0.9997     0.195    0.722   \n",
       "115  3251.530029      0.414145  0.023484   -0.9989     0.145    0.802   \n",
       "\n",
       "     Positive  \n",
       "0       0.102  \n",
       "1       0.113  \n",
       "2       0.110  \n",
       "3       0.170  \n",
       "4       0.084  \n",
       "..        ...  \n",
       "111     0.071  \n",
       "112     0.079  \n",
       "113     0.070  \n",
       "114     0.084  \n",
       "115     0.053  \n",
       "\n",
       "[116 rows x 7 columns]"
      ]
     },
     "execution_count": 42,
     "metadata": {},
     "output_type": "execute_result"
    }
   ],
   "source": [
    "df1 = df_merge[['Close','Subjectivity', 'Polarity', 'Compound', 'Negative', 'Neutral' ,'Positive']]\n",
    "df1"
   ]
  },
  {
   "cell_type": "code",
   "execution_count": 45,
   "metadata": {},
   "outputs": [
    {
     "data": {
      "text/html": [
       "<div>\n",
       "<style scoped>\n",
       "    .dataframe tbody tr th:only-of-type {\n",
       "        vertical-align: middle;\n",
       "    }\n",
       "\n",
       "    .dataframe tbody tr th {\n",
       "        vertical-align: top;\n",
       "    }\n",
       "\n",
       "    .dataframe thead th {\n",
       "        text-align: right;\n",
       "    }\n",
       "</style>\n",
       "<table border=\"1\" class=\"dataframe\">\n",
       "  <thead>\n",
       "    <tr style=\"text-align: right;\">\n",
       "      <th></th>\n",
       "      <th>Close</th>\n",
       "      <th>Subjectivity</th>\n",
       "      <th>Polarity</th>\n",
       "      <th>Compound</th>\n",
       "      <th>Negative</th>\n",
       "      <th>Neutral</th>\n",
       "      <th>Positive</th>\n",
       "    </tr>\n",
       "  </thead>\n",
       "  <tbody>\n",
       "    <tr>\n",
       "      <th>0</th>\n",
       "      <td>0.665840</td>\n",
       "      <td>0.298148</td>\n",
       "      <td>0.557192</td>\n",
       "      <td>0.072909</td>\n",
       "      <td>0.382263</td>\n",
       "      <td>0.699735</td>\n",
       "      <td>0.134921</td>\n",
       "    </tr>\n",
       "    <tr>\n",
       "      <th>1</th>\n",
       "      <td>0.698641</td>\n",
       "      <td>0.429167</td>\n",
       "      <td>0.410533</td>\n",
       "      <td>0.202397</td>\n",
       "      <td>0.403670</td>\n",
       "      <td>0.675926</td>\n",
       "      <td>0.149471</td>\n",
       "    </tr>\n",
       "    <tr>\n",
       "      <th>2</th>\n",
       "      <td>0.742772</td>\n",
       "      <td>0.475140</td>\n",
       "      <td>0.425345</td>\n",
       "      <td>0.969057</td>\n",
       "      <td>0.302752</td>\n",
       "      <td>0.723545</td>\n",
       "      <td>0.145503</td>\n",
       "    </tr>\n",
       "    <tr>\n",
       "      <th>3</th>\n",
       "      <td>0.797276</td>\n",
       "      <td>0.458412</td>\n",
       "      <td>0.947884</td>\n",
       "      <td>0.322833</td>\n",
       "      <td>0.522936</td>\n",
       "      <td>0.548942</td>\n",
       "      <td>0.224868</td>\n",
       "    </tr>\n",
       "    <tr>\n",
       "      <th>4</th>\n",
       "      <td>0.746807</td>\n",
       "      <td>0.486204</td>\n",
       "      <td>0.291458</td>\n",
       "      <td>0.161240</td>\n",
       "      <td>0.305810</td>\n",
       "      <td>0.756614</td>\n",
       "      <td>0.111111</td>\n",
       "    </tr>\n",
       "  </tbody>\n",
       "</table>\n",
       "</div>"
      ],
      "text/plain": [
       "      Close  Subjectivity  Polarity  Compound  Negative   Neutral  Positive\n",
       "0  0.665840      0.298148  0.557192  0.072909  0.382263  0.699735  0.134921\n",
       "1  0.698641      0.429167  0.410533  0.202397  0.403670  0.675926  0.149471\n",
       "2  0.742772      0.475140  0.425345  0.969057  0.302752  0.723545  0.145503\n",
       "3  0.797276      0.458412  0.947884  0.322833  0.522936  0.548942  0.224868\n",
       "4  0.746807      0.486204  0.291458  0.161240  0.305810  0.756614  0.111111"
      ]
     },
     "execution_count": 45,
     "metadata": {},
     "output_type": "execute_result"
    }
   ],
   "source": [
    "from sklearn.preprocessing import MinMaxScaler\n",
    "sc = MinMaxScaler()\n",
    "new_df = pd.DataFrame(sc.fit_transform(df1))\n",
    "new_df.columns = df1.columns\n",
    "new_df.index = df1.index\n",
    "new_df.head()"
   ]
  },
  {
   "cell_type": "code",
   "execution_count": 46,
   "metadata": {},
   "outputs": [],
   "source": [
    "X = new_df.drop('Close', axis=1)\n",
    "y =new_df['Close']"
   ]
  },
  {
   "cell_type": "code",
   "execution_count": 47,
   "metadata": {},
   "outputs": [
    {
     "data": {
      "text/html": [
       "<div>\n",
       "<style scoped>\n",
       "    .dataframe tbody tr th:only-of-type {\n",
       "        vertical-align: middle;\n",
       "    }\n",
       "\n",
       "    .dataframe tbody tr th {\n",
       "        vertical-align: top;\n",
       "    }\n",
       "\n",
       "    .dataframe thead th {\n",
       "        text-align: right;\n",
       "    }\n",
       "</style>\n",
       "<table border=\"1\" class=\"dataframe\">\n",
       "  <thead>\n",
       "    <tr style=\"text-align: right;\">\n",
       "      <th></th>\n",
       "      <th>Subjectivity</th>\n",
       "      <th>Polarity</th>\n",
       "      <th>Compound</th>\n",
       "      <th>Negative</th>\n",
       "      <th>Neutral</th>\n",
       "      <th>Positive</th>\n",
       "    </tr>\n",
       "  </thead>\n",
       "  <tbody>\n",
       "    <tr>\n",
       "      <th>0</th>\n",
       "      <td>0.298148</td>\n",
       "      <td>0.557192</td>\n",
       "      <td>0.072909</td>\n",
       "      <td>0.382263</td>\n",
       "      <td>0.699735</td>\n",
       "      <td>0.134921</td>\n",
       "    </tr>\n",
       "    <tr>\n",
       "      <th>1</th>\n",
       "      <td>0.429167</td>\n",
       "      <td>0.410533</td>\n",
       "      <td>0.202397</td>\n",
       "      <td>0.403670</td>\n",
       "      <td>0.675926</td>\n",
       "      <td>0.149471</td>\n",
       "    </tr>\n",
       "    <tr>\n",
       "      <th>2</th>\n",
       "      <td>0.475140</td>\n",
       "      <td>0.425345</td>\n",
       "      <td>0.969057</td>\n",
       "      <td>0.302752</td>\n",
       "      <td>0.723545</td>\n",
       "      <td>0.145503</td>\n",
       "    </tr>\n",
       "    <tr>\n",
       "      <th>3</th>\n",
       "      <td>0.458412</td>\n",
       "      <td>0.947884</td>\n",
       "      <td>0.322833</td>\n",
       "      <td>0.522936</td>\n",
       "      <td>0.548942</td>\n",
       "      <td>0.224868</td>\n",
       "    </tr>\n",
       "    <tr>\n",
       "      <th>4</th>\n",
       "      <td>0.486204</td>\n",
       "      <td>0.291458</td>\n",
       "      <td>0.161240</td>\n",
       "      <td>0.305810</td>\n",
       "      <td>0.756614</td>\n",
       "      <td>0.111111</td>\n",
       "    </tr>\n",
       "  </tbody>\n",
       "</table>\n",
       "</div>"
      ],
      "text/plain": [
       "   Subjectivity  Polarity  Compound  Negative   Neutral  Positive\n",
       "0      0.298148  0.557192  0.072909  0.382263  0.699735  0.134921\n",
       "1      0.429167  0.410533  0.202397  0.403670  0.675926  0.149471\n",
       "2      0.475140  0.425345  0.969057  0.302752  0.723545  0.145503\n",
       "3      0.458412  0.947884  0.322833  0.522936  0.548942  0.224868\n",
       "4      0.486204  0.291458  0.161240  0.305810  0.756614  0.111111"
      ]
     },
     "execution_count": 47,
     "metadata": {},
     "output_type": "execute_result"
    }
   ],
   "source": [
    "X.head()"
   ]
  },
  {
   "cell_type": "code",
   "execution_count": 48,
   "metadata": {},
   "outputs": [
    {
     "data": {
      "text/plain": [
       "(92, 6)"
      ]
     },
     "execution_count": 48,
     "metadata": {},
     "output_type": "execute_result"
    }
   ],
   "source": [
    "x_train, x_test, y_train, y_test = train_test_split(X, y, test_size=0.2, random_state = 0)\n",
    "x_train.shape"
   ]
  },
  {
   "cell_type": "code",
   "execution_count": 49,
   "metadata": {},
   "outputs": [
    {
     "data": {
      "text/html": [
       "<div>\n",
       "<style scoped>\n",
       "    .dataframe tbody tr th:only-of-type {\n",
       "        vertical-align: middle;\n",
       "    }\n",
       "\n",
       "    .dataframe tbody tr th {\n",
       "        vertical-align: top;\n",
       "    }\n",
       "\n",
       "    .dataframe thead th {\n",
       "        text-align: right;\n",
       "    }\n",
       "</style>\n",
       "<table border=\"1\" class=\"dataframe\">\n",
       "  <thead>\n",
       "    <tr style=\"text-align: right;\">\n",
       "      <th></th>\n",
       "      <th>Subjectivity</th>\n",
       "      <th>Polarity</th>\n",
       "      <th>Compound</th>\n",
       "      <th>Negative</th>\n",
       "      <th>Neutral</th>\n",
       "      <th>Positive</th>\n",
       "    </tr>\n",
       "  </thead>\n",
       "  <tbody>\n",
       "    <tr>\n",
       "      <th>71</th>\n",
       "      <td>0.390873</td>\n",
       "      <td>0.193688</td>\n",
       "      <td>0.032764</td>\n",
       "      <td>0.470948</td>\n",
       "      <td>0.679894</td>\n",
       "      <td>0.116402</td>\n",
       "    </tr>\n",
       "    <tr>\n",
       "      <th>97</th>\n",
       "      <td>0.426136</td>\n",
       "      <td>0.626521</td>\n",
       "      <td>0.607746</td>\n",
       "      <td>0.440367</td>\n",
       "      <td>0.574074</td>\n",
       "      <td>0.235450</td>\n",
       "    </tr>\n",
       "    <tr>\n",
       "      <th>111</th>\n",
       "      <td>0.373858</td>\n",
       "      <td>0.346604</td>\n",
       "      <td>0.001517</td>\n",
       "      <td>0.425076</td>\n",
       "      <td>0.722222</td>\n",
       "      <td>0.093915</td>\n",
       "    </tr>\n",
       "    <tr>\n",
       "      <th>100</th>\n",
       "      <td>0.227273</td>\n",
       "      <td>0.496028</td>\n",
       "      <td>0.505461</td>\n",
       "      <td>0.000000</td>\n",
       "      <td>1.000000</td>\n",
       "      <td>0.000000</td>\n",
       "    </tr>\n",
       "    <tr>\n",
       "      <th>8</th>\n",
       "      <td>0.238603</td>\n",
       "      <td>0.506202</td>\n",
       "      <td>0.993023</td>\n",
       "      <td>0.122324</td>\n",
       "      <td>0.792328</td>\n",
       "      <td>0.154762</td>\n",
       "    </tr>\n",
       "    <tr>\n",
       "      <th>93</th>\n",
       "      <td>0.325108</td>\n",
       "      <td>0.854580</td>\n",
       "      <td>0.998382</td>\n",
       "      <td>0.232416</td>\n",
       "      <td>0.690476</td>\n",
       "      <td>0.208995</td>\n",
       "    </tr>\n",
       "    <tr>\n",
       "      <th>33</th>\n",
       "      <td>0.440734</td>\n",
       "      <td>0.270752</td>\n",
       "      <td>0.815098</td>\n",
       "      <td>0.211009</td>\n",
       "      <td>0.791005</td>\n",
       "      <td>0.117725</td>\n",
       "    </tr>\n",
       "    <tr>\n",
       "      <th>45</th>\n",
       "      <td>0.442549</td>\n",
       "      <td>0.500399</td>\n",
       "      <td>0.965568</td>\n",
       "      <td>0.385321</td>\n",
       "      <td>0.630952</td>\n",
       "      <td>0.202381</td>\n",
       "    </tr>\n",
       "    <tr>\n",
       "      <th>3</th>\n",
       "      <td>0.458412</td>\n",
       "      <td>0.947884</td>\n",
       "      <td>0.322833</td>\n",
       "      <td>0.522936</td>\n",
       "      <td>0.548942</td>\n",
       "      <td>0.224868</td>\n",
       "    </tr>\n",
       "    <tr>\n",
       "      <th>48</th>\n",
       "      <td>0.501515</td>\n",
       "      <td>0.556311</td>\n",
       "      <td>0.864698</td>\n",
       "      <td>0.437309</td>\n",
       "      <td>0.592593</td>\n",
       "      <td>0.218254</td>\n",
       "    </tr>\n",
       "  </tbody>\n",
       "</table>\n",
       "</div>"
      ],
      "text/plain": [
       "     Subjectivity  Polarity  Compound  Negative   Neutral  Positive\n",
       "71       0.390873  0.193688  0.032764  0.470948  0.679894  0.116402\n",
       "97       0.426136  0.626521  0.607746  0.440367  0.574074  0.235450\n",
       "111      0.373858  0.346604  0.001517  0.425076  0.722222  0.093915\n",
       "100      0.227273  0.496028  0.505461  0.000000  1.000000  0.000000\n",
       "8        0.238603  0.506202  0.993023  0.122324  0.792328  0.154762\n",
       "93       0.325108  0.854580  0.998382  0.232416  0.690476  0.208995\n",
       "33       0.440734  0.270752  0.815098  0.211009  0.791005  0.117725\n",
       "45       0.442549  0.500399  0.965568  0.385321  0.630952  0.202381\n",
       "3        0.458412  0.947884  0.322833  0.522936  0.548942  0.224868\n",
       "48       0.501515  0.556311  0.864698  0.437309  0.592593  0.218254"
      ]
     },
     "execution_count": 49,
     "metadata": {},
     "output_type": "execute_result"
    }
   ],
   "source": [
    "x_train[:10]"
   ]
  },
  {
   "cell_type": "code",
   "execution_count": 52,
   "metadata": {},
   "outputs": [
    {
     "name": "stdout",
     "output_type": "stream",
     "text": [
      "Collecting lightgbmNote: you may need to restart the kernel to use updated packages.\n",
      "  Downloading lightgbm-3.1.0-py2.py3-none-win_amd64.whl (751 kB)\n",
      "Requirement already satisfied: scikit-learn!=0.22.0 in e:\\ml_and_dl\\env\\lib\\site-packages (from lightgbm) (0.22.1)\n",
      "Requirement already satisfied: numpy in e:\\ml_and_dl\\env\\lib\\site-packages (from lightgbm) (1.18.1)\n",
      "Requirement already satisfied: scipy in e:\\ml_and_dl\\env\\lib\\site-packages (from lightgbm) (1.5.0)\n",
      "Requirement already satisfied: joblib>=0.11 in e:\\ml_and_dl\\env\\lib\\site-packages (from scikit-learn!=0.22.0->lightgbm) (0.15.1)\n",
      "Installing collected packages: lightgbm\n",
      "Successfully installed lightgbm-3.1.0\n",
      "\n"
     ]
    }
   ],
   "source": [
    "pip install lightgbm"
   ]
  },
  {
   "cell_type": "code",
   "execution_count": 53,
   "metadata": {},
   "outputs": [],
   "source": [
    "from sklearn.ensemble import RandomForestRegressor, AdaBoostRegressor\n",
    "import xgboost \n",
    "import lightgbm \n",
    "rf = RandomForestRegressor()\n",
    "rf.fit(x_train, y_train)\n",
    "prediction=rf.predict(x_test)"
   ]
  },
  {
   "cell_type": "code",
   "execution_count": 56,
   "metadata": {},
   "outputs": [],
   "source": [
    "adb = AdaBoostRegressor()\n",
    "adb.fit(x_train, y_train)\n",
    "predictions = adb.predict(x_test)"
   ]
  },
  {
   "cell_type": "code",
   "execution_count": 57,
   "metadata": {},
   "outputs": [
    {
     "data": {
      "text/plain": [
       "LGBMRegressor(boosting_type='gbdt', class_weight=None, colsample_bytree=1.0,\n",
       "              importance_type='split', learning_rate=0.1, max_depth=-1,\n",
       "              min_child_samples=20, min_child_weight=0.001, min_split_gain=0.0,\n",
       "              n_estimators=100, n_jobs=-1, num_leaves=31, objective=None,\n",
       "              random_state=None, reg_alpha=0.0, reg_lambda=0.0, silent=True,\n",
       "              subsample=1.0, subsample_for_bin=200000, subsample_freq=0)"
      ]
     },
     "execution_count": 57,
     "metadata": {},
     "output_type": "execute_result"
    }
   ],
   "source": [
    "lgb = lightgbm.LGBMRegressor()\n",
    "lgb.fit(x_train, y_train)"
   ]
  },
  {
   "cell_type": "code",
   "execution_count": 58,
   "metadata": {},
   "outputs": [
    {
     "name": "stdout",
     "output_type": "stream",
     "text": [
      "0.12259136975378587\n"
     ]
    }
   ],
   "source": [
    "predictions = lgb.predict(x_test)\n",
    "print(mean_squared_error(predictions,y_test))"
   ]
  },
  {
   "cell_type": "code",
   "execution_count": 59,
   "metadata": {},
   "outputs": [
    {
     "data": {
      "text/plain": [
       "XGBRegressor(base_score=0.5, booster='gbtree', colsample_bylevel=1,\n",
       "             colsample_bynode=1, colsample_bytree=1, gamma=0, gpu_id=-1,\n",
       "             importance_type='gain', interaction_constraints='',\n",
       "             learning_rate=0.300000012, max_delta_step=0, max_depth=6,\n",
       "             min_child_weight=1, missing=nan, monotone_constraints='()',\n",
       "             n_estimators=100, n_jobs=0, num_parallel_tree=1,\n",
       "             objective='reg:squarederror', random_state=0, reg_alpha=0,\n",
       "             reg_lambda=1, scale_pos_weight=1, subsample=1, tree_method='exact',\n",
       "             validate_parameters=1, verbosity=None)"
      ]
     },
     "execution_count": 59,
     "metadata": {},
     "output_type": "execute_result"
    }
   ],
   "source": [
    "xgb = xgboost.XGBRegressor()\n",
    "xgb.fit(x_train, y_train)"
   ]
  },
  {
   "cell_type": "code",
   "execution_count": 60,
   "metadata": {},
   "outputs": [
    {
     "name": "stdout",
     "output_type": "stream",
     "text": [
      "0.1612475688317745\n"
     ]
    }
   ],
   "source": [
    "predictions = xgb.predict(x_test)\n",
    "print(mean_squared_error(predictions,y_test))"
   ]
  },
  {
   "cell_type": "code",
   "execution_count": null,
   "metadata": {},
   "outputs": [],
   "source": []
  }
 ],
 "metadata": {
  "kernelspec": {
   "display_name": "Python 3",
   "language": "python",
   "name": "python3"
  }
 },
 "nbformat": 4,
 "nbformat_minor": 4
}
